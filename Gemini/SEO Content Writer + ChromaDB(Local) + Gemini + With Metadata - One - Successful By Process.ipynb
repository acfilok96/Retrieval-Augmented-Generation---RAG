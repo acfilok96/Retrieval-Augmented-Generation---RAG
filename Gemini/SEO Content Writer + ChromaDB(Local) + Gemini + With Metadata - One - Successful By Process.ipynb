{
  "nbformat": 4,
  "nbformat_minor": 0,
  "metadata": {
    "colab": {
      "provenance": []
    },
    "kernelspec": {
      "name": "python3",
      "display_name": "Python 3"
    },
    "language_info": {
      "name": "python"
    }
  },
  "cells": [
    {
      "cell_type": "code",
      "source": [
        "! pip install -q --upgrade langchain-google-genai chromadb PyPDF2"
      ],
      "metadata": {
        "colab": {
          "base_uri": "https://localhost:8080/"
        },
        "id": "WG6158LKPOwI",
        "outputId": "ed5ac583-1395-4b94-fc9b-2453657c22f7"
      },
      "execution_count": 1,
      "outputs": [
        {
          "output_type": "stream",
          "name": "stdout",
          "text": [
            "\u001b[?25l     \u001b[90m━━━━━━━━━━━━━━━━━━━━━━━━━━━━━━━━━━━━━━━━\u001b[0m \u001b[32m0.0/525.5 kB\u001b[0m \u001b[31m?\u001b[0m eta \u001b[36m-:--:--\u001b[0m\r\u001b[2K     \u001b[91m━━━━━━━━━━━━━━\u001b[0m\u001b[91m╸\u001b[0m\u001b[90m━━━━━━━━━━━━━━━━━━━━━━━━━\u001b[0m \u001b[32m194.6/525.5 kB\u001b[0m \u001b[31m5.6 MB/s\u001b[0m eta \u001b[36m0:00:01\u001b[0m\r\u001b[2K     \u001b[90m━━━━━━━━━━━━━━━━━━━━━━━━━━━━━━━━━━━━━━━━\u001b[0m \u001b[32m525.5/525.5 kB\u001b[0m \u001b[31m9.4 MB/s\u001b[0m eta \u001b[36m0:00:00\u001b[0m\n",
            "\u001b[2K     \u001b[90m━━━━━━━━━━━━━━━━━━━━━━━━━━━━━━━━━━━━━━━━\u001b[0m \u001b[32m232.6/232.6 kB\u001b[0m \u001b[31m25.3 MB/s\u001b[0m eta \u001b[36m0:00:00\u001b[0m\n",
            "\u001b[2K     \u001b[90m━━━━━━━━━━━━━━━━━━━━━━━━━━━━━━━━━━━━━━━━\u001b[0m \u001b[32m252.6/252.6 kB\u001b[0m \u001b[31m27.5 MB/s\u001b[0m eta \u001b[36m0:00:00\u001b[0m\n",
            "\u001b[2K     \u001b[90m━━━━━━━━━━━━━━━━━━━━━━━━━━━━━━━━━━━━━━━━\u001b[0m \u001b[32m2.4/2.4 MB\u001b[0m \u001b[31m64.2 MB/s\u001b[0m eta \u001b[36m0:00:00\u001b[0m\n",
            "\u001b[2K     \u001b[90m━━━━━━━━━━━━━━━━━━━━━━━━━━━━━━━━━━━━━━━━\u001b[0m \u001b[32m92.1/92.1 kB\u001b[0m \u001b[31m12.0 MB/s\u001b[0m eta \u001b[36m0:00:00\u001b[0m\n",
            "\u001b[2K     \u001b[90m━━━━━━━━━━━━━━━━━━━━━━━━━━━━━━━━━━━━━━━━\u001b[0m \u001b[32m60.8/60.8 kB\u001b[0m \u001b[31m7.7 MB/s\u001b[0m eta \u001b[36m0:00:00\u001b[0m\n",
            "\u001b[2K     \u001b[90m━━━━━━━━━━━━━━━━━━━━━━━━━━━━━━━━━━━━━━━━\u001b[0m \u001b[32m41.3/41.3 kB\u001b[0m \u001b[31m5.3 MB/s\u001b[0m eta \u001b[36m0:00:00\u001b[0m\n",
            "\u001b[2K     \u001b[90m━━━━━━━━━━━━━━━━━━━━━━━━━━━━━━━━━━━━━━━━\u001b[0m \u001b[32m5.4/5.4 MB\u001b[0m \u001b[31m78.9 MB/s\u001b[0m eta \u001b[36m0:00:00\u001b[0m\n",
            "\u001b[2K     \u001b[90m━━━━━━━━━━━━━━━━━━━━━━━━━━━━━━━━━━━━━━━━\u001b[0m \u001b[32m6.8/6.8 MB\u001b[0m \u001b[31m80.5 MB/s\u001b[0m eta \u001b[36m0:00:00\u001b[0m\n",
            "\u001b[2K     \u001b[90m━━━━━━━━━━━━━━━━━━━━━━━━━━━━━━━━━━━━━━━━\u001b[0m \u001b[32m58.4/58.4 kB\u001b[0m \u001b[31m7.6 MB/s\u001b[0m eta \u001b[36m0:00:00\u001b[0m\n",
            "\u001b[2K     \u001b[90m━━━━━━━━━━━━━━━━━━━━━━━━━━━━━━━━━━━━━━━━\u001b[0m \u001b[32m105.7/105.7 kB\u001b[0m \u001b[31m13.4 MB/s\u001b[0m eta \u001b[36m0:00:00\u001b[0m\n",
            "\u001b[2K     \u001b[90m━━━━━━━━━━━━━━━━━━━━━━━━━━━━━━━━━━━━━━━━\u001b[0m \u001b[32m67.3/67.3 kB\u001b[0m \u001b[31m9.4 MB/s\u001b[0m eta \u001b[36m0:00:00\u001b[0m\n",
            "\u001b[?25h  Installing build dependencies ... \u001b[?25l\u001b[?25hdone\n",
            "  Getting requirements to build wheel ... \u001b[?25l\u001b[?25hdone\n",
            "  Preparing metadata (pyproject.toml) ... \u001b[?25l\u001b[?25hdone\n",
            "\u001b[2K     \u001b[90m━━━━━━━━━━━━━━━━━━━━━━━━━━━━━━━━━━━━━━━━\u001b[0m \u001b[32m698.9/698.9 kB\u001b[0m \u001b[31m54.8 MB/s\u001b[0m eta \u001b[36m0:00:00\u001b[0m\n",
            "\u001b[2K     \u001b[90m━━━━━━━━━━━━━━━━━━━━━━━━━━━━━━━━━━━━━━━━\u001b[0m \u001b[32m1.6/1.6 MB\u001b[0m \u001b[31m70.9 MB/s\u001b[0m eta \u001b[36m0:00:00\u001b[0m\n",
            "\u001b[2K     \u001b[90m━━━━━━━━━━━━━━━━━━━━━━━━━━━━━━━━━━━━━━━━\u001b[0m \u001b[32m67.6/67.6 kB\u001b[0m \u001b[31m9.1 MB/s\u001b[0m eta \u001b[36m0:00:00\u001b[0m\n",
            "\u001b[2K     \u001b[90m━━━━━━━━━━━━━━━━━━━━━━━━━━━━━━━━━━━━━━━━\u001b[0m \u001b[32m138.5/138.5 kB\u001b[0m \u001b[31m15.6 MB/s\u001b[0m eta \u001b[36m0:00:00\u001b[0m\n",
            "\u001b[2K     \u001b[90m━━━━━━━━━━━━━━━━━━━━━━━━━━━━━━━━━━━━━━━━\u001b[0m \u001b[32m71.5/71.5 kB\u001b[0m \u001b[31m9.2 MB/s\u001b[0m eta \u001b[36m0:00:00\u001b[0m\n",
            "\u001b[2K     \u001b[90m━━━━━━━━━━━━━━━━━━━━━━━━━━━━━━━━━━━━━━━━\u001b[0m \u001b[32m65.7/65.7 kB\u001b[0m \u001b[31m9.7 MB/s\u001b[0m eta \u001b[36m0:00:00\u001b[0m\n",
            "\u001b[2K     \u001b[90m━━━━━━━━━━━━━━━━━━━━━━━━━━━━━━━━━━━━━━━━\u001b[0m \u001b[32m46.0/46.0 kB\u001b[0m \u001b[31m5.7 MB/s\u001b[0m eta \u001b[36m0:00:00\u001b[0m\n",
            "\u001b[2K     \u001b[90m━━━━━━━━━━━━━━━━━━━━━━━━━━━━━━━━━━━━━━━━\u001b[0m \u001b[32m50.8/50.8 kB\u001b[0m \u001b[31m7.1 MB/s\u001b[0m eta \u001b[36m0:00:00\u001b[0m\n",
            "\u001b[2K     \u001b[90m━━━━━━━━━━━━━━━━━━━━━━━━━━━━━━━━━━━━━━━━\u001b[0m \u001b[32m58.3/58.3 kB\u001b[0m \u001b[31m7.9 MB/s\u001b[0m eta \u001b[36m0:00:00\u001b[0m\n",
            "\u001b[2K     \u001b[90m━━━━━━━━━━━━━━━━━━━━━━━━━━━━━━━━━━━━━━━━\u001b[0m \u001b[32m341.4/341.4 kB\u001b[0m \u001b[31m35.6 MB/s\u001b[0m eta \u001b[36m0:00:00\u001b[0m\n",
            "\u001b[2K     \u001b[90m━━━━━━━━━━━━━━━━━━━━━━━━━━━━━━━━━━━━━━━━\u001b[0m \u001b[32m3.4/3.4 MB\u001b[0m \u001b[31m90.2 MB/s\u001b[0m eta \u001b[36m0:00:00\u001b[0m\n",
            "\u001b[2K     \u001b[90m━━━━━━━━━━━━━━━━━━━━━━━━━━━━━━━━━━━━━━━━\u001b[0m \u001b[32m1.3/1.3 MB\u001b[0m \u001b[31m74.9 MB/s\u001b[0m eta \u001b[36m0:00:00\u001b[0m\n",
            "\u001b[2K     \u001b[90m━━━━━━━━━━━━━━━━━━━━━━━━━━━━━━━━━━━━━━━━\u001b[0m \u001b[32m130.2/130.2 kB\u001b[0m \u001b[31m15.4 MB/s\u001b[0m eta \u001b[36m0:00:00\u001b[0m\n",
            "\u001b[2K     \u001b[90m━━━━━━━━━━━━━━━━━━━━━━━━━━━━━━━━━━━━━━━━\u001b[0m \u001b[32m86.8/86.8 kB\u001b[0m \u001b[31m11.5 MB/s\u001b[0m eta \u001b[36m0:00:00\u001b[0m\n",
            "\u001b[?25h  Building wheel for pypika (pyproject.toml) ... \u001b[?25l\u001b[?25hdone\n"
          ]
        }
      ]
    },
    {
      "cell_type": "code",
      "source": [
        "! pip install -q --upgrade langchain-community langchain langchain-core"
      ],
      "metadata": {
        "colab": {
          "base_uri": "https://localhost:8080/"
        },
        "id": "KwZPdHTCWsai",
        "outputId": "f6f514c3-f43e-4046-b5f7-ed6eb55ff59d"
      },
      "execution_count": 2,
      "outputs": [
        {
          "output_type": "stream",
          "name": "stdout",
          "text": [
            "\u001b[2K     \u001b[90m━━━━━━━━━━━━━━━━━━━━━━━━━━━━━━━━━━━━━━━━\u001b[0m \u001b[32m1.8/1.8 MB\u001b[0m \u001b[31m27.1 MB/s\u001b[0m eta \u001b[36m0:00:00\u001b[0m\n",
            "\u001b[2K     \u001b[90m━━━━━━━━━━━━━━━━━━━━━━━━━━━━━━━━━━━━━━━━\u001b[0m \u001b[32m806.2/806.2 kB\u001b[0m \u001b[31m56.6 MB/s\u001b[0m eta \u001b[36m0:00:00\u001b[0m\n",
            "\u001b[2K     \u001b[90m━━━━━━━━━━━━━━━━━━━━━━━━━━━━━━━━━━━━━━━━\u001b[0m \u001b[32m49.4/49.4 kB\u001b[0m \u001b[31m6.4 MB/s\u001b[0m eta \u001b[36m0:00:00\u001b[0m\n",
            "\u001b[?25h"
          ]
        }
      ]
    },
    {
      "cell_type": "code",
      "source": [
        "from langchain_community.document_loaders import WebBaseLoader\n",
        "from langchain_community.document_loaders import PyPDFLoader, TextLoader\n",
        "from langchain.text_splitter import RecursiveCharacterTextSplitter\n",
        "from langchain_community.vectorstores import Chroma\n",
        "\n",
        "from langchain_core.prompts import ChatPromptTemplate, MessagesPlaceholder\n",
        "from langchain.chains import create_history_aware_retriever, create_retrieval_chain\n",
        "from langchain.chains.combine_documents import create_stuff_documents_chain\n",
        "\n",
        "import PyPDF2\n",
        "from langchain.vectorstores import Chroma\n",
        "\n",
        "from langchain.text_splitter import RecursiveCharacterTextSplitter\n",
        "from langchain.document_loaders import TextLoader, DirectoryLoader\n",
        "\n",
        "from langchain_community.document_loaders import WebBaseLoader\n",
        "from langchain_community.document_loaders import Docx2txtLoader\n",
        "\n",
        "\n",
        "from langchain import PromptTemplate\n",
        "from langchain.chains.question_answering import load_qa_chain\n",
        "from langchain.document_loaders import PyPDFLoader\n",
        "from langchain.text_splitter import RecursiveCharacterTextSplitter\n",
        "from langchain.vectorstores import Chroma\n",
        "from langchain.chains import RetrievalQA\n",
        "\n",
        "from langchain_google_genai import ChatGoogleGenerativeAI"
      ],
      "metadata": {
        "id": "Rzi-Wc2ePOs1"
      },
      "execution_count": 3,
      "outputs": []
    },
    {
      "cell_type": "code",
      "source": [
        "import os"
      ],
      "metadata": {
        "id": "isv4_RzURnfw"
      },
      "execution_count": 4,
      "outputs": []
    },
    {
      "cell_type": "code",
      "source": [
        "def urlLoad(url_path):\n",
        "\n",
        "  loader = WebBaseLoader(url_path)\n",
        "  documents = loader.load()\n",
        "\n",
        "  # split the document into chunks\n",
        "  text_splitter = RecursiveCharacterTextSplitter(chunk_size = 500, chunk_overlap = 100)\n",
        "  document_chunks = text_splitter.split_documents(documents)\n",
        "\n",
        "  text_list = []\n",
        "  source_list = []\n",
        "\n",
        "  for i, document in enumerate(document_chunks):\n",
        "    text_list.append(document.page_content)\n",
        "    source_metadata = str(url_path)+str(\"_page_\")+str(i+1)\n",
        "    source_list.append(source_metadata)\n",
        "\n",
        "  return text_list, source_list"
      ],
      "metadata": {
        "id": "-xF8r-MZSVIH"
      },
      "execution_count": 5,
      "outputs": []
    },
    {
      "cell_type": "code",
      "source": [
        "def txtLoad(txt_path):\n",
        "\n",
        "  loader = TextLoader(txt_path)\n",
        "  documents = loader.load()\n",
        "\n",
        "  # split the document into chunks\n",
        "  text_splitter = RecursiveCharacterTextSplitter(chunk_size = 500, chunk_overlap = 100)\n",
        "  document_chunks = text_splitter.split_documents(documents)\n",
        "\n",
        "  text_list = []\n",
        "  source_list = []\n",
        "\n",
        "  for i, document in enumerate(document_chunks):\n",
        "    text_list.append(document.page_content)\n",
        "    source_metadata = str(txt_path)+str(\"_page_\")+str(i+1)\n",
        "    source_list.append(source_metadata)\n",
        "\n",
        "  return text_list, source_list"
      ],
      "metadata": {
        "id": "ljpj61RvSZAJ"
      },
      "execution_count": 6,
      "outputs": []
    },
    {
      "cell_type": "code",
      "source": [
        "def pdfLoad(pdf_path):\n",
        "\n",
        "  text_list = []\n",
        "  source_list = []\n",
        "\n",
        "  pdf_reader = PyPDF2.PdfReader(pdf_path)\n",
        "\n",
        "  for i in range(len(pdf_reader.pages)):\n",
        "    page_obj = pdf_reader.pages[i]\n",
        "    text_data = page_obj.extract_text()\n",
        "    page_obj.clear()\n",
        "\n",
        "    text_list.append(text_data)\n",
        "    source_list.append(str(pdf_path) + str(\"_page_\") + str(i+1))\n",
        "\n",
        "  return text_list, source_list"
      ],
      "metadata": {
        "id": "sNZyNb24SZuF"
      },
      "execution_count": 7,
      "outputs": []
    },
    {
      "cell_type": "code",
      "source": [
        "def docLoad(doc_path):\n",
        "\n",
        "  loader = Docx2txtLoader(doc_path)\n",
        "  documents = loader.load()\n",
        "\n",
        "  # split the document into chunks\n",
        "  text_splitter = RecursiveCharacterTextSplitter(chunk_size = 500, chunk_overlap = 100)\n",
        "  document_chunks = text_splitter.split_documents(documents)\n",
        "\n",
        "  text_list = []\n",
        "  source_list = []\n",
        "\n",
        "  for i, document in enumerate(document_chunks):\n",
        "    text_list.append(document.page_content)\n",
        "    source_metadata = str(doc_path)+str(\"_page_\")+str(i+1)\n",
        "    source_list.append(source_metadata)\n",
        "\n",
        "  return text_list, source_list"
      ],
      "metadata": {
        "id": "de-oyjp5SZqw"
      },
      "execution_count": 8,
      "outputs": []
    },
    {
      "cell_type": "code",
      "source": [
        "def returnChuncksFunction(url_file=None, txt_file=None, doc_file=None, pdf_file=None):\n",
        "\n",
        "  text_main_list, source_main_list = [], []\n",
        "\n",
        "  if url_file:\n",
        "    url_text_file, url_source_file = urlLoad(url_file)\n",
        "    for i,j in zip(url_text_file, url_source_file):\n",
        "      text_main_list.append(i)\n",
        "      source_main_list.append(j)\n",
        "\n",
        "  elif txt_file:\n",
        "    txt_text_file, txt_source_file = txtLoad(txt_file)\n",
        "    for i,j in zip(txt_text_file, txt_source_file):\n",
        "      text_main_list.append(i)\n",
        "      source_main_list.append(j)\n",
        "\n",
        "  elif doc_file:\n",
        "    doc_text_file, doc_source_file = docLoad(doc_file)\n",
        "    for i,j in zip(doc_text_file, doc_source_file):\n",
        "      text_main_list.append(i)\n",
        "      source_main_list.append(j)\n",
        "\n",
        "  elif pdf_file:\n",
        "    pdf_text_file, pdf_source_file = pdfLoad(pdf_file)\n",
        "    for i,j in zip(pdf_text_file, pdf_source_file):\n",
        "      text_main_list.append(i)\n",
        "      source_main_list.append(j)\n",
        "\n",
        "  # embeddings = OpenAIEmbeddings(openai_api_key = OPENAI_API_KEY)\n",
        "  # vector_store = Chroma.from_texts(text_main_list, embeddings, metadatas = [{\"source\" : s} for s in source_main_list])\n",
        "\n",
        "  return text_main_list, source_main_list"
      ],
      "metadata": {
        "id": "JGwvQnEOSgHz"
      },
      "execution_count": 9,
      "outputs": []
    },
    {
      "cell_type": "code",
      "source": [],
      "metadata": {
        "id": "8x7_igzMSgE9"
      },
      "execution_count": 9,
      "outputs": []
    },
    {
      "cell_type": "code",
      "source": [],
      "metadata": {
        "id": "HuuSLS7ESgEE"
      },
      "execution_count": 9,
      "outputs": []
    },
    {
      "cell_type": "code",
      "source": [
        "# import google.generativeai as genai\n",
        "from google.colab import userdata\n",
        "GOOGLE_API_KEY = userdata.get('GOOGLE_API_KEY')\n",
        "# genai.configure(api_key=GOOGLE_API_KEY)"
      ],
      "metadata": {
        "id": "MQ8U6dwlPXes"
      },
      "execution_count": 11,
      "outputs": []
    },
    {
      "cell_type": "code",
      "source": [
        "# text_splitter = RecursiveCharacterTextSplitter(chunk_size = 10000,\n",
        "#                                                chunk_overlap = 1000)\n",
        "# context = \"\\n\\n\".join(str(p.page_content) for p in pages)\n",
        "# texts = text_splitter.split_text(context)"
      ],
      "metadata": {
        "id": "I3j5FVWiPXXm"
      },
      "execution_count": 12,
      "outputs": []
    },
    {
      "cell_type": "code",
      "source": [
        "from langchain_google_genai import GoogleGenerativeAIEmbeddings\n",
        "embeddings = GoogleGenerativeAIEmbeddings(model = \"models/embedding-001\",\n",
        "                                          google_api_key = GOOGLE_API_KEY)"
      ],
      "metadata": {
        "id": "DlWcsHfrPXWL"
      },
      "execution_count": 13,
      "outputs": []
    },
    {
      "cell_type": "code",
      "source": [
        "persist_directory = \"PersonalDB\""
      ],
      "metadata": {
        "id": "YTvsYk7pTYb2"
      },
      "execution_count": 20,
      "outputs": []
    },
    {
      "cell_type": "code",
      "source": [
        "url_file = \"https://en.wikipedia.org/wiki/Albert_Einstein\"\n",
        "txt_file = \"/content/SampleTextFile_100kb.txt\"\n",
        "doc_file = \"/content/file-sample_100kB.doc\"\n",
        "pdf_file = \"/content/Conditional Generative Adversarial Nets.pdf\"\n",
        "\n",
        "text_main_list, source_main_list = returnChuncksFunction(url_file, txt_file, doc_file, pdf_file)"
      ],
      "metadata": {
        "id": "YWccjtp5T4af"
      },
      "execution_count": 15,
      "outputs": []
    },
    {
      "cell_type": "code",
      "source": [
        "vector_index = Chroma.from_texts(texts = text_main_list,\n",
        "                                 embedding = embeddings,\n",
        "                                 metadatas = [{\"source\" : s} for s in source_main_list],\n",
        "                                 persist_directory = persist_directory)"
      ],
      "metadata": {
        "id": "6-3FZpcxTsa2"
      },
      "execution_count": 23,
      "outputs": []
    },
    {
      "cell_type": "code",
      "source": [
        "vector_index.persist()"
      ],
      "metadata": {
        "id": "NhxA6iOtUTch"
      },
      "execution_count": 24,
      "outputs": []
    },
    {
      "cell_type": "code",
      "source": [
        "vector_index"
      ],
      "metadata": {
        "colab": {
          "base_uri": "https://localhost:8080/"
        },
        "id": "WUNddDmMZNyG",
        "outputId": "538cb6d6-0cfa-483f-bb1d-3bdbc5ff00d7"
      },
      "execution_count": 25,
      "outputs": [
        {
          "output_type": "execute_result",
          "data": {
            "text/plain": [
              "<langchain_community.vectorstores.chroma.Chroma at 0x7b0935626380>"
            ]
          },
          "metadata": {},
          "execution_count": 25
        }
      ]
    },
    {
      "cell_type": "code",
      "source": [
        "vector_index = None"
      ],
      "metadata": {
        "id": "rB4MBKP2UXXY"
      },
      "execution_count": 26,
      "outputs": []
    },
    {
      "cell_type": "code",
      "source": [
        "vector_index"
      ],
      "metadata": {
        "id": "RRGiGQ1sZQWd"
      },
      "execution_count": 27,
      "outputs": []
    },
    {
      "cell_type": "code",
      "source": [
        "vector_index = Chroma(persist_directory = persist_directory,\n",
        "                      embedding_function = embeddings)"
      ],
      "metadata": {
        "id": "lkhCRbaqTm-Q"
      },
      "execution_count": 28,
      "outputs": []
    },
    {
      "cell_type": "code",
      "source": [
        "vector_index"
      ],
      "metadata": {
        "colab": {
          "base_uri": "https://localhost:8080/"
        },
        "id": "We9lOf1jZUTG",
        "outputId": "858b31a0-3ff9-4b0b-ca76-fb214400eca3"
      },
      "execution_count": 29,
      "outputs": [
        {
          "output_type": "execute_result",
          "data": {
            "text/plain": [
              "<langchain_community.vectorstores.chroma.Chroma at 0x7b092336f310>"
            ]
          },
          "metadata": {},
          "execution_count": 29
        }
      ]
    },
    {
      "cell_type": "code",
      "source": [
        "retriever = vector_index.as_retriever(search_kwargs={\"k\":5})"
      ],
      "metadata": {
        "id": "ibjs5yL6VObq"
      },
      "execution_count": 30,
      "outputs": []
    },
    {
      "cell_type": "code",
      "source": [
        "### Checking\n",
        "\n",
        "query = \"Tell me about Albert Einstein.\"\n",
        "docs = retriever.get_relevant_documents(query)\n",
        "docs"
      ],
      "metadata": {
        "colab": {
          "base_uri": "https://localhost:8080/"
        },
        "id": "atdCEvAxVWSY",
        "outputId": "c273567a-ad3f-4b0d-f6c6-41dd1b494b8a"
      },
      "execution_count": 40,
      "outputs": [
        {
          "output_type": "execute_result",
          "data": {
            "text/plain": [
              "[Document(page_content='Retrieved from \"https://en.wikipedia.org/w/index.php?title=Albert_Einstein&oldid=1211513439\"', metadata={'source': 'https://en.wikipedia.org/wiki/Albert_Einstein_page_509'}),\n",
              " Document(page_content='Retrieved from \"https://en.wikipedia.org/w/index.php?title=Albert_Einstein&oldid=1211513439\"', metadata={'source': 'https://en.wikipedia.org/wiki/Albert_Einstein_page_509'}),\n",
              " Document(page_content=\"External links\\n\\n\\nAlbert Einstein  at Wikipedia's sister projects\\n\\nMedia from CommonsQuotations from WikiquoteTexts from Wikisource\\n\\n\\n\\n\\nScholia has an author profile for Albert Einstein.\", metadata={'source': 'https://en.wikipedia.org/wiki/Albert_Einstein_page_473'}),\n",
              " Document(page_content=\"External links\\n\\n\\nAlbert Einstein  at Wikipedia's sister projects\\n\\nMedia from CommonsQuotations from WikiquoteTexts from Wikisource\\n\\n\\n\\n\\nScholia has an author profile for Albert Einstein.\", metadata={'source': 'https://en.wikipedia.org/wiki/Albert_Einstein_page_473'}),\n",
              " Document(page_content='Print/export\\n\\t\\n\\n\\nDownload as PDFPrintable version\\n\\n\\n\\n\\n\\n\\t\\tIn other projects\\n\\t\\n\\n\\nWikimedia CommonsMultilingual WikisourceWikiquoteWikisourceWikiversity\\n\\n\\n\\n\\n\\n\\n\\n\\n\\n\\n\\n\\n\\n\\n\\n\\n\\n\\n\\n\\n\\n\\n\\n\\n\\n\\n\\nFrom Wikipedia, the free encyclopedia\\n\\n\\nGerman-born physicist (1879–1955)\\n\"Einstein\" redirects here. For other uses, see Einstein (disambiguation) and Albert Einstein (disambiguation).', metadata={'source': 'https://en.wikipedia.org/wiki/Albert_Einstein_page_15'})]"
            ]
          },
          "metadata": {},
          "execution_count": 40
        }
      ]
    },
    {
      "cell_type": "code",
      "source": [
        "model = ChatGoogleGenerativeAI(model = \"gemini-pro\",\n",
        "                               google_api_key = GOOGLE_API_KEY,\n",
        "                               temperature = 0.2,\n",
        "                               convert_system_message_to_human = True)"
      ],
      "metadata": {
        "id": "ikKinT5rWXZy"
      },
      "execution_count": 41,
      "outputs": []
    },
    {
      "cell_type": "code",
      "source": [
        "qa_chain = RetrievalQA.from_chain_type(llm = model,\n",
        "                                       chain_type = \"stuff\",\n",
        "                                       retriever = retriever,\n",
        "                                       return_source_documents = True\n",
        "                                       )"
      ],
      "metadata": {
        "id": "7cx_COlJPXSb"
      },
      "execution_count": 42,
      "outputs": []
    },
    {
      "cell_type": "code",
      "source": [
        "response = qa_chain.invoke(query)\n",
        "# response = qa_chain({\"query\": query})"
      ],
      "metadata": {
        "id": "wAkq8Fu-V4LJ"
      },
      "execution_count": 43,
      "outputs": []
    },
    {
      "cell_type": "code",
      "source": [
        "response"
      ],
      "metadata": {
        "colab": {
          "base_uri": "https://localhost:8080/"
        },
        "id": "B8xMhbgpWFHs",
        "outputId": "d1e10472-891a-403a-d50b-363aee31a17a"
      },
      "execution_count": 44,
      "outputs": [
        {
          "output_type": "execute_result",
          "data": {
            "text/plain": [
              "{'query': 'Tell me about Albert Einstein.',\n",
              " 'result': 'Albert Einstein was a German-born physicist who developed the theory of relativity, one of the two pillars of modern physics. His work is also known for its influence on the philosophy of science.',\n",
              " 'source_documents': [Document(page_content='Retrieved from \"https://en.wikipedia.org/w/index.php?title=Albert_Einstein&oldid=1211513439\"', metadata={'source': 'https://en.wikipedia.org/wiki/Albert_Einstein_page_509'}),\n",
              "  Document(page_content='Retrieved from \"https://en.wikipedia.org/w/index.php?title=Albert_Einstein&oldid=1211513439\"', metadata={'source': 'https://en.wikipedia.org/wiki/Albert_Einstein_page_509'}),\n",
              "  Document(page_content=\"External links\\n\\n\\nAlbert Einstein  at Wikipedia's sister projects\\n\\nMedia from CommonsQuotations from WikiquoteTexts from Wikisource\\n\\n\\n\\n\\nScholia has an author profile for Albert Einstein.\", metadata={'source': 'https://en.wikipedia.org/wiki/Albert_Einstein_page_473'}),\n",
              "  Document(page_content=\"External links\\n\\n\\nAlbert Einstein  at Wikipedia's sister projects\\n\\nMedia from CommonsQuotations from WikiquoteTexts from Wikisource\\n\\n\\n\\n\\nScholia has an author profile for Albert Einstein.\", metadata={'source': 'https://en.wikipedia.org/wiki/Albert_Einstein_page_473'}),\n",
              "  Document(page_content='Print/export\\n\\t\\n\\n\\nDownload as PDFPrintable version\\n\\n\\n\\n\\n\\n\\t\\tIn other projects\\n\\t\\n\\n\\nWikimedia CommonsMultilingual WikisourceWikiquoteWikisourceWikiversity\\n\\n\\n\\n\\n\\n\\n\\n\\n\\n\\n\\n\\n\\n\\n\\n\\n\\n\\n\\n\\n\\n\\n\\n\\n\\n\\n\\nFrom Wikipedia, the free encyclopedia\\n\\n\\nGerman-born physicist (1879–1955)\\n\"Einstein\" redirects here. For other uses, see Einstein (disambiguation) and Albert Einstein (disambiguation).', metadata={'source': 'https://en.wikipedia.org/wiki/Albert_Einstein_page_15'})]}"
            ]
          },
          "metadata": {},
          "execution_count": 44
        }
      ]
    },
    {
      "cell_type": "code",
      "source": [
        "response[\"result\"]"
      ],
      "metadata": {
        "colab": {
          "base_uri": "https://localhost:8080/",
          "height": 53
        },
        "id": "Lre9gvRjWGp9",
        "outputId": "f2fc6186-e83a-4acb-f26e-4ba03ed8b17d"
      },
      "execution_count": 45,
      "outputs": [
        {
          "output_type": "execute_result",
          "data": {
            "text/plain": [
              "'Albert Einstein was a German-born physicist who developed the theory of relativity, one of the two pillars of modern physics. His work is also known for its influence on the philosophy of science.'"
            ],
            "application/vnd.google.colaboratory.intrinsic+json": {
              "type": "string"
            }
          },
          "metadata": {},
          "execution_count": 45
        }
      ]
    },
    {
      "cell_type": "code",
      "source": [
        "response[\"source_documents\"]"
      ],
      "metadata": {
        "colab": {
          "base_uri": "https://localhost:8080/"
        },
        "id": "ZmzSgLMpWKDC",
        "outputId": "64f2aa8d-45a8-4a54-cf20-c87a0bbfd392"
      },
      "execution_count": 46,
      "outputs": [
        {
          "output_type": "execute_result",
          "data": {
            "text/plain": [
              "[Document(page_content='Retrieved from \"https://en.wikipedia.org/w/index.php?title=Albert_Einstein&oldid=1211513439\"', metadata={'source': 'https://en.wikipedia.org/wiki/Albert_Einstein_page_509'}),\n",
              " Document(page_content='Retrieved from \"https://en.wikipedia.org/w/index.php?title=Albert_Einstein&oldid=1211513439\"', metadata={'source': 'https://en.wikipedia.org/wiki/Albert_Einstein_page_509'}),\n",
              " Document(page_content=\"External links\\n\\n\\nAlbert Einstein  at Wikipedia's sister projects\\n\\nMedia from CommonsQuotations from WikiquoteTexts from Wikisource\\n\\n\\n\\n\\nScholia has an author profile for Albert Einstein.\", metadata={'source': 'https://en.wikipedia.org/wiki/Albert_Einstein_page_473'}),\n",
              " Document(page_content=\"External links\\n\\n\\nAlbert Einstein  at Wikipedia's sister projects\\n\\nMedia from CommonsQuotations from WikiquoteTexts from Wikisource\\n\\n\\n\\n\\nScholia has an author profile for Albert Einstein.\", metadata={'source': 'https://en.wikipedia.org/wiki/Albert_Einstein_page_473'}),\n",
              " Document(page_content='Print/export\\n\\t\\n\\n\\nDownload as PDFPrintable version\\n\\n\\n\\n\\n\\n\\t\\tIn other projects\\n\\t\\n\\n\\nWikimedia CommonsMultilingual WikisourceWikiquoteWikisourceWikiversity\\n\\n\\n\\n\\n\\n\\n\\n\\n\\n\\n\\n\\n\\n\\n\\n\\n\\n\\n\\n\\n\\n\\n\\n\\n\\n\\n\\nFrom Wikipedia, the free encyclopedia\\n\\n\\nGerman-born physicist (1879–1955)\\n\"Einstein\" redirects here. For other uses, see Einstein (disambiguation) and Albert Einstein (disambiguation).', metadata={'source': 'https://en.wikipedia.org/wiki/Albert_Einstein_page_15'})]"
            ]
          },
          "metadata": {},
          "execution_count": 46
        }
      ]
    },
    {
      "cell_type": "code",
      "source": [],
      "metadata": {
        "id": "Z40fuBK4V4Hx"
      },
      "execution_count": null,
      "outputs": []
    },
    {
      "cell_type": "code",
      "source": [],
      "metadata": {
        "id": "_vE-YFnKV4Fd"
      },
      "execution_count": null,
      "outputs": []
    },
    {
      "cell_type": "code",
      "source": [
        "# vector_index = Chroma.from_texts(texts, embeddings).as_retriever(search_kwargs={\"k\":5})"
      ],
      "metadata": {
        "id": "TprLp0TKU6MR"
      },
      "execution_count": null,
      "outputs": []
    },
    {
      "cell_type": "code",
      "source": [
        "# question = \"Describe the Multi-head attention layer in detail?\"\n",
        "# result = qa_chain({\"query\": question})\n",
        "# result[\"result\"]"
      ],
      "metadata": {
        "id": "3WQL4AcrPXQu"
      },
      "execution_count": null,
      "outputs": []
    },
    {
      "cell_type": "code",
      "source": [],
      "metadata": {
        "id": "HbZPyYnUPXO2"
      },
      "execution_count": null,
      "outputs": []
    }
  ]
}